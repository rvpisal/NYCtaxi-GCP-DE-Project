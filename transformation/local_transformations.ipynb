{
 "cells": [
  {
   "cell_type": "code",
   "execution_count": null,
   "metadata": {},
   "outputs": [],
   "source": [
    "import pandas as pd\n",
    "import pyarrow as pya\n",
    "import fastparquet as fp\n",
    "import datetime as dt"
   ]
  },
  {
   "cell_type": "code",
   "execution_count": 52,
   "metadata": {},
   "outputs": [],
   "source": [
    "import_file = '../data/yellow_tripdata_2023-01.parquet'\n",
    "\n",
    "df = pd.read_parquet(import_file, engine= 'fastparquet')\n",
    "\n",
    "uber_df = df.loc[(df['tpep_pickup_datetime'] >= '2023-01-01') & (df['tpep_pickup_datetime'] <= '2023-01-05')]\n"
   ]
  },
  {
   "cell_type": "code",
   "execution_count": 53,
   "metadata": {},
   "outputs": [],
   "source": [
    "uber_df.to_csv ('../data/yellow_tripdata_2023-01_05.csv')"
   ]
  },
  {
   "cell_type": "markdown",
   "metadata": {},
   "source": [
    "Check if all the fields of DF are in correct format or need to be converted"
   ]
  },
  {
   "cell_type": "code",
   "execution_count": null,
   "metadata": {},
   "outputs": [],
   "source": [
    "uber_df.info()"
   ]
  },
  {
   "cell_type": "markdown",
   "metadata": {},
   "source": [
    "Drop duplicates from the data to create fact and dims"
   ]
  },
  {
   "cell_type": "code",
   "execution_count": null,
   "metadata": {},
   "outputs": [],
   "source": [
    "uber_df = uber_df.drop_duplicates().reset_index(drop=True)\n",
    "uber_df ['trip_id'] = uber_df.index"
   ]
  },
  {
   "cell_type": "code",
   "execution_count": null,
   "metadata": {},
   "outputs": [],
   "source": [
    "uber_df.head()"
   ]
  },
  {
   "cell_type": "markdown",
   "metadata": {},
   "source": [
    "Create Dimension tables"
   ]
  },
  {
   "cell_type": "code",
   "execution_count": null,
   "metadata": {},
   "outputs": [],
   "source": [
    "dim_datetime = uber_df[['tpep_pickup_datetime','tpep_dropoff_datetime']].drop_duplicates().reset_index(drop=True)\n",
    "\n",
    "# Add other needed columns:\n",
    "\n",
    "dim_datetime['pick_hour'] = dim_datetime['tpep_pickup_datetime'].dt.hour\n",
    "dim_datetime['pick_day'] = dim_datetime['tpep_pickup_datetime'].dt.day\n",
    "dim_datetime['pick_month'] = dim_datetime['tpep_pickup_datetime'].dt.month\n",
    "dim_datetime['pick_year'] = dim_datetime['tpep_pickup_datetime'].dt.year\n",
    "dim_datetime['pick_weekday'] = dim_datetime['tpep_pickup_datetime'].dt.weekday\n",
    "dim_datetime['drop_hour'] = dim_datetime['tpep_pickup_datetime'].dt.hour\n",
    "dim_datetime['drop_day'] = dim_datetime['tpep_pickup_datetime'].dt.day\n",
    "dim_datetime['drop_month'] = dim_datetime['tpep_pickup_datetime'].dt.month\n",
    "dim_datetime['drop_year'] = dim_datetime['tpep_pickup_datetime'].dt.year\n",
    "dim_datetime['drop_weekday'] = dim_datetime['tpep_pickup_datetime'].dt.weekday\n",
    "dim_datetime['drop_weekday'] = dim_datetime['tpep_pickup_datetime'].dt.weekday\n",
    "\n",
    "#PK\n",
    "dim_datetime ['datetime_id'] = dim_datetime.index + 1"
   ]
  },
  {
   "cell_type": "markdown",
   "metadata": {},
   "source": [
    "Reset column order of the dataframe"
   ]
  },
  {
   "cell_type": "code",
   "execution_count": null,
   "metadata": {},
   "outputs": [],
   "source": [
    "dim_datetime = dim_datetime[['datetime_id', 'tpep_pickup_datetime', 'pick_hour', 'pick_day', 'pick_month', 'pick_year', 'pick_weekday', 'tpep_dropoff_datetime', 'drop_hour', 'drop_day', 'drop_month', 'drop_year', 'drop_weekday']]\n",
    "dim_datetime.head()"
   ]
  },
  {
   "cell_type": "code",
   "execution_count": null,
   "metadata": {},
   "outputs": [],
   "source": [
    "dim_passenger_count = uber_df[['passenger_count']].drop_duplicates().reset_index(drop=True)\n",
    "dim_passenger_count['passenger_count_id'] = dim_passenger_count.index + 1\n",
    "dim_passenger_count = dim_passenger_count[['passenger_count_id','passenger_count']]\n",
    "\n",
    "dim_passenger_count.head()"
   ]
  },
  {
   "cell_type": "code",
   "execution_count": null,
   "metadata": {},
   "outputs": [],
   "source": [
    "dim_trip_distance = uber_df[['trip_distance']].drop_duplicates().reset_index(drop=True)\n",
    "dim_trip_distance['trip_distance_id'] = dim_trip_distance.index + 1\n",
    "dim_trip_distance = dim_trip_distance[['trip_distance_id','trip_distance']]\n",
    "\n",
    "dim_trip_distance.head()"
   ]
  },
  {
   "cell_type": "code",
   "execution_count": null,
   "metadata": {},
   "outputs": [],
   "source": [
    "rate_code_type = {\n",
    "    1:\"Standard rate\",\n",
    "    2:\"JFK\",\n",
    "    3:\"Newark\",\n",
    "    4:\"Nassau or Westchester\",\n",
    "    5:\"Negotiated fare\",\n",
    "    6:\"Group ride\"\n",
    "}\n",
    "\n",
    "dim_ratecode = uber_df[['RatecodeID']].drop_duplicates().reset_index(drop=True)\n",
    "dim_ratecode['rate_code_id'] = dim_ratecode.index + 1 #PK\n",
    "dim_ratecode['rate_code_name'] = dim_ratecode ['RatecodeID'].map(rate_code_type)\n",
    "dim_ratecode = dim_ratecode [['rate_code_id','RatecodeID','rate_code_name']]\n",
    "dim_ratecode.head()"
   ]
  },
  {
   "cell_type": "code",
   "execution_count": null,
   "metadata": {},
   "outputs": [],
   "source": [
    "payment_type_name = {\n",
    "    1:\"Credit card\",\n",
    "    2:\"Cash\",\n",
    "    3:\"No charge\",\n",
    "    4:\"Dispute\",\n",
    "    5:\"Unknown\",\n",
    "    6:\"Voided trip\"\n",
    "}\n",
    "dim_payment_type = uber_df[['payment_type']].drop_duplicates().reset_index(drop=True)\n",
    "dim_payment_type ['payment_type_id'] = dim_payment_type.index + 1\n",
    "dim_payment_type ['payment_type_name'] = dim_payment_type['payment_type'].map(payment_type_name)\n",
    "dim_payment_type = dim_payment_type [['payment_type_id','payment_type','payment_type_name']]\n",
    "dim_payment_type.head()"
   ]
  },
  {
   "cell_type": "code",
   "execution_count": null,
   "metadata": {},
   "outputs": [],
   "source": [
    "dim_pick_location = uber_df [['PULocationID']].drop_duplicates().reset_index(drop=True)\n",
    "dim_pick_location['pick_location_id'] = dim_pick_location.index + 1\n",
    "dim_pick_location = dim_pick_location [['pick_location_id','PULocationID']]\n",
    "dim_pick_location.head()\n",
    "\n",
    "# pulocation_id\t\tLocation"
   ]
  },
  {
   "cell_type": "code",
   "execution_count": null,
   "metadata": {},
   "outputs": [],
   "source": [
    "dim_drop_location = uber_df [['DOLocationID']].drop_duplicates().reset_index(drop=True)\n",
    "dim_drop_location['drop_location_id'] = dim_drop_location.index + 1\n",
    "dim_drop_location = dim_drop_location [['drop_location_id','DOLocationID']]\n",
    "dim_drop_location.head()"
   ]
  },
  {
   "cell_type": "code",
   "execution_count": null,
   "metadata": {},
   "outputs": [],
   "source": [
    "vendor_name = {\n",
    "    1:'Creative Mobile Technologies',\n",
    "    2:'VeriFone Inc.'\n",
    "}\n",
    "\n",
    "dim_vendor = uber_df [['VendorID']].drop_duplicates().reset_index(drop=True)\n",
    "dim_vendor['vendor_id'] = dim_vendor.index + 1\n",
    "dim_vendor ['vendor_name'] = dim_vendor['VendorID'].map(vendor_name)\n",
    "dim_vendor = dim_vendor[['vendor_id','VendorID','vendor_name']]\n",
    "dim_vendor.head()\n"
   ]
  },
  {
   "cell_type": "code",
   "execution_count": null,
   "metadata": {},
   "outputs": [],
   "source": [
    "fact_table = uber_df.merge (dim_passenger_count,on='passenger_count')\\\n",
    "                    .merge (dim_trip_distance, on='trip_distance')\\\n",
    "                    .merge (dim_ratecode, on='RatecodeID')\\\n",
    "                    .merge (dim_payment_type, on='payment_type')\\\n",
    "                    .merge (dim_pick_location, on='PULocationID')\\\n",
    "                    .merge (dim_drop_location, on='DOLocationID')\\\n",
    "                    .merge (dim_datetime, on=['tpep_pickup_datetime','tpep_dropoff_datetime'])\\\n",
    "                    .merge (dim_vendor, on='VendorID')\\\n",
    "                    [['vendor_id', 'datetime_id', 'pick_location_id', 'drop_location_id', 'passenger_count_id', 'rate_code_id',\n",
    "                        'payment_type_id', 'trip_distance_id', 'fare_amount', 'extra', 'mta_tax', 'tip_amount', 'tolls_amount',\n",
    "                        'improvement_surcharge', 'congestion_surcharge', 'airport_fee']]\n",
    "\n",
    "# VendorID\ttpep_pickup_datetime\ttpep_dropoff_datetime\tpassenger_count\ttrip_distance\tRatecodeID\tstore_and_fwd_flag\tPULocationID\tDOLocationID\tpayment_type\tfare_amount\textra\tmta_tax\ttip_amount"
   ]
  },
  {
   "cell_type": "code",
   "execution_count": null,
   "metadata": {},
   "outputs": [],
   "source": [
    "fact_table.head()"
   ]
  }
 ],
 "metadata": {
  "kernelspec": {
   "display_name": "base",
   "language": "python",
   "name": "python3"
  },
  "language_info": {
   "codemirror_mode": {
    "name": "ipython",
    "version": 3
   },
   "file_extension": ".py",
   "mimetype": "text/x-python",
   "name": "python",
   "nbconvert_exporter": "python",
   "pygments_lexer": "ipython3",
   "version": "3.9.1"
  },
  "orig_nbformat": 4
 },
 "nbformat": 4,
 "nbformat_minor": 2
}
